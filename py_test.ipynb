{
  "nbformat": 4,
  "nbformat_minor": 0,
  "metadata": {
    "colab": {
      "provenance": [],
      "toc_visible": true,
      "authorship_tag": "ABX9TyOmmF3eRJSkWJ5FBJnFTszs",
      "include_colab_link": true
    },
    "kernelspec": {
      "name": "python3",
      "display_name": "Python 3"
    },
    "language_info": {
      "name": "python"
    }
  },
  "cells": [
    {
      "cell_type": "markdown",
      "metadata": {
        "id": "view-in-github",
        "colab_type": "text"
      },
      "source": [
        "<a href=\"https://colab.research.google.com/github/LiangMingjing/py_coding/blob/main/py_test.ipynb\" target=\"_parent\"><img src=\"https://colab.research.google.com/assets/colab-badge.svg\" alt=\"Open In Colab\"/></a>"
      ]
    },
    {
      "cell_type": "code",
      "execution_count": null,
      "metadata": {
        "colab": {
          "base_uri": "https://localhost:8080/"
        },
        "id": "VN-Gd6O-deho",
        "outputId": "2ba0859d-b785-445f-dc7c-7be2e2dabe23"
      },
      "outputs": [
        {
          "output_type": "stream",
          "name": "stdout",
          "text": [
            "1600\n"
          ]
        }
      ],
      "source": [
        "def fee(age,is_monday):\n",
        "  fee = 2000\n",
        "  if age < 3:\n",
        "    fee = 0\n",
        "  elif age < 6:\n",
        "    fee = 500\n",
        "  elif age >= 60:\n",
        "    fee = 1500\n",
        "  if is_monday :\n",
        "    fee = int(fee*0.8)\n",
        "  return fee\n",
        "\n",
        "print(fee(30, True))"
      ]
    },
    {
      "cell_type": "code",
      "source": [
        "# test 2-1\n",
        "print(\"Hello,Python World!\")\n"
      ],
      "metadata": {
        "colab": {
          "base_uri": "https://localhost:8080/"
        },
        "id": "aDL2x5ehatVy",
        "outputId": "356fb307-08fb-4114-b1ea-541bdd45797f"
      },
      "execution_count": 1,
      "outputs": [
        {
          "output_type": "stream",
          "name": "stdout",
          "text": [
            "Hello,Python World!\n"
          ]
        }
      ]
    },
    {
      "cell_type": "markdown",
      "source": [
        "# New Section"
      ],
      "metadata": {
        "id": "zIZhhRa7ie4q"
      }
    }
  ]
}